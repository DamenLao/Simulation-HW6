{
  "cells": [
    {
      "cell_type": "markdown",
      "metadata": {
        "id": "yEYDm_ICb4GC"
      },
      "source": [
        "# ORIE 4580/5580 Assignment 6\n",
        "\n",
        "#### Students: Ryan Ren (yr269),Naiyuan Liu (nl535)\n",
        "\n",
        "### Github link: https://github.coecis.cornell.edu/yr269/simulation_assignments/blob/main/HW6.ipynb\n"
      ]
    },
    {
      "cell_type": "markdown",
      "source": [
        "### Instructions\n",
        "\n",
        "\n",
        "* Due Tuesday, November 14, at 11.59am on Gradescope.\n",
        "* Assignment .ipynb files available for download on [Canvas](https://canvas.cornell.edu/courses/56826#:~:text=Assignments-,Assignments,-Assignments%20Module%20publish). Do all your work in provided notebook (text answers typeset in markdown; show all required code and generate plots inline), and then generate and submit a pdf.\n",
        "* Ideally do assignments in groups of 2, and submit a single pdf with both names\n",
        "* Please show your work and clearly mark your answers.\n",
        "* You can use any code fragments given in class, found online (for example, on StackOverflow), or generated via Bard or ChatGPT (you are encouraged to use these for first drafts) **with proper referencing**. You can also discuss with others (again, please reference them if you do so); but you must write your final answers on your own as a team.\n",
        "\n",
        "\n",
        "\n",
        "### Suggested reading\n",
        "\n",
        "[Mor Harchol-Balter's chapter](https://canvas.cornell.edu/courses/56826/files/9180297/download?download_frd=1) on the Poisson process (on Canvas)"
      ],
      "metadata": {
        "id": "l3G_wUFRg9v6"
      }
    },
    {
      "cell_type": "code",
      "source": [
        "import numpy as np"
      ],
      "metadata": {
        "id": "o91Uq9Rr0crJ"
      },
      "execution_count": null,
      "outputs": []
    },
    {
      "cell_type": "markdown",
      "source": [
        "___\n",
        "___\n",
        "\n",
        "# Question 1: Everyone goes to Gimme! (25 points)\n",
        "\n",
        "The downtown Ithaca Gimme! store sees a Poisson arrival process with rate\n",
        "\n",
        "$$ \\lambda(t)=\\frac{1}{56}\\left(5t^3-90t^2+300t+1480\\right) \\quad \\text{for } 0 \\leq t \\leq 12,$$\n",
        "\n",
        "over the 12 hours on the weekdays it is open.\n"
      ],
      "metadata": {
        "id": "e8ndo1Pm5S9E"
      }
    },
    {
      "cell_type": "markdown",
      "source": [
        "___\n",
        "\n",
        "**(a)** Compute the exact probability that the coffee store will see more than 250 customers in one 12 hour day. Do not use simulation.\n",
        "___\n"
      ],
      "metadata": {
        "id": "F4ENNINL5guU"
      }
    },
    {
      "cell_type": "markdown",
      "source": [
        "## Ans.\n",
        "$\\mu=\\int_{0}^{12} \\frac{1}{56}\\left(5t^3-90t^2+300t+1480\\right)dt$\n",
        "\n",
        "$P(X>250)=1-P(x\\leq250)=1-∑_{k=0}^{250}\\frac{μ^k}{k!}e^{-\\mu}$\n",
        "\n",
        "See code for calculation"
      ],
      "metadata": {
        "id": "JISOt5FL5oWO"
      }
    },
    {
      "cell_type": "code",
      "source": [
        "from scipy.integrate import quad\n",
        "import scipy.stats as stats\n",
        "\n",
        "def lambda_t(t):\n",
        "    return (1/56) * (5*t**3 - 90*t**2 + 300*t + 1480)\n",
        "mu, error = quad(lambda_t, 0, 12)\n",
        "prob_more_than_250 = 1 - stats.poisson.cdf(250, mu)\n",
        "print(f'The mean is {mu} and the probability the coffee store will see more than 250 customer is {prob_more_than_250}')"
      ],
      "metadata": {
        "colab": {
          "base_uri": "https://localhost:8080/"
        },
        "id": "72PeUYQBmaGK",
        "outputId": "6c028632-3865-411b-bb91-25efa15d8c69"
      },
      "execution_count": null,
      "outputs": [
        {
          "output_type": "stream",
          "name": "stdout",
          "text": [
            "The mean is 239.99999999999994 and the probability the coffee store will see more than 250 customer is 0.24711253205956585\n"
          ]
        }
      ]
    },
    {
      "cell_type": "markdown",
      "source": [
        "___\n",
        "\n",
        "**(b)** Use thinning to simulate 500 replications of the Poisson arrival process. Based on these replications, estimate the probability in Part (a) and report a 95\\% confidence interval.\n",
        "\n",
        "___"
      ],
      "metadata": {
        "id": "J9_Sh_Hf5rca"
      }
    },
    {
      "cell_type": "markdown",
      "source": [
        "## Ans.\n",
        "\n"
      ],
      "metadata": {
        "id": "iZ3iHE745ty7"
      }
    },
    {
      "cell_type": "code",
      "source": [
        "from scipy.optimize import minimize_scalar\n",
        "max_rate_result = minimize_scalar(lambda t: -lambda_t(t), bounds=(0, 12), method='bounded')\n",
        "lambda_max = -max_rate_result.fun\n",
        "lambda_max"
      ],
      "metadata": {
        "id": "45qmxWiu52Yd",
        "colab": {
          "base_uri": "https://localhost:8080/"
        },
        "outputId": "3645f204-2a23-45b7-8a8e-b3c781445b03"
      },
      "execution_count": null,
      "outputs": [
        {
          "output_type": "execute_result",
          "data": {
            "text/plain": [
              "31.428571428571352"
            ]
          },
          "metadata": {},
          "execution_count": 49
        }
      ]
    },
    {
      "cell_type": "code",
      "source": [
        "num_replications = 500\n",
        "num_hours = 12\n",
        "num_customers_threshold = 250\n",
        "num_customers_per_replication = []\n",
        "hourly_arrivals_per_replication = [[0] * 12 for _ in range(num_replications)]\n",
        "for i in range(num_replications):\n",
        "    total_arrivals = np.random.poisson(lambda_max * num_hours)\n",
        "    arrival_times = np.random.uniform(0, num_hours, total_arrivals)\n",
        "    accepted_arrivals = 0\n",
        "    for t in arrival_times:\n",
        "        if np.random.uniform(0, 1) < lambda_t(t) / lambda_max:\n",
        "            accepted_arrivals += 1\n",
        "            hour_index = int(t)\n",
        "            hourly_arrivals_per_replication[i][hour_index] += 1\n",
        "    num_customers_per_replication.append(accepted_arrivals)\n",
        "\n",
        "prob_more_than_250_estimated = sum(c > num_customers_threshold for c in num_customers_per_replication) / num_replications\n",
        "\n",
        "mean = prob_more_than_250_estimated\n",
        "std_error = np.std([c > num_customers_threshold for c in num_customers_per_replication]) / np.sqrt(num_replications)\n",
        "confidence_interval = stats.norm.interval(0.95, loc=mean, scale=std_error)\n",
        "\n",
        "prob_more_than_250_estimated, confidence_interval\n",
        "\n",
        "print(f'The estimated probability of customers exceeding 250 in 12 hours is {prob_more_than_250_estimated}, and the confidence interval is {confidence_interval}')"
      ],
      "metadata": {
        "colab": {
          "base_uri": "https://localhost:8080/"
        },
        "id": "X2OteM6KuxKx",
        "outputId": "27ae967c-a3a0-4cf4-c247-b6dd1627ad21"
      },
      "execution_count": null,
      "outputs": [
        {
          "output_type": "stream",
          "name": "stdout",
          "text": [
            "The estimated probability of customers exceeding 250 in 12 hours is 0.262, and the confidence interval is (0.22345731945663008, 0.3005426805433699)\n"
          ]
        }
      ]
    },
    {
      "cell_type": "markdown",
      "source": [
        "___\n",
        "**(c)** Based on your 500 replications, make a bar plot showing the average number of customers who arrive during each of the twelve hours of operation. Plot the rate function $\\lambda(t)$ and compare.\n",
        "___"
      ],
      "metadata": {
        "id": "atztSUh657dR"
      }
    },
    {
      "cell_type": "markdown",
      "source": [
        "## Ans."
      ],
      "metadata": {
        "id": "uJoZkqXT5_RA"
      }
    },
    {
      "cell_type": "code",
      "source": [
        "import matplotlib.pyplot as plt\n",
        "average_hourly_arrivals = [sum(hourly_arrivals[i] for hourly_arrivals in hourly_arrivals_per_replication) / num_replications for i in range(12)]\n",
        "\n",
        "t_plot = np.linspace(0, 12, 100)\n",
        "lambda_t_plot = [lambda_t(t) for t in t_plot]\n",
        "plt.bar(range(1, 13), average_hourly_arrivals, color='blue', label='Average Hourly Arrivals')\n",
        "plt.plot(t_plot, lambda_t_plot, color='red', label='$\\lambda(t)$')\n",
        "plt.xlabel('Hour of the Day')\n",
        "plt.ylabel('Number of Customers')\n",
        "plt.title('Average Hourly Customer Arrivals vs. Rate Function $\\lambda(t)$')\n",
        "plt.legend()\n",
        "plt.grid(True)\n",
        "plt.xticks(range(1, 13))\n",
        "plt.show()"
      ],
      "metadata": {
        "id": "sqHHYgOf57GQ",
        "colab": {
          "base_uri": "https://localhost:8080/",
          "height": 474
        },
        "outputId": "bf1cc33e-0086-46ad-abb8-cef17c775f22"
      },
      "execution_count": null,
      "outputs": [
        {
          "output_type": "display_data",
          "data": {
            "text/plain": [
              "<Figure size 640x480 with 1 Axes>"
            ],
            "image/png": "[encoded data removed]"
          },
          "metadata": {}
        }
      ]
    },
    {
      "cell_type": "markdown",
      "source": [
        "\n",
        "\n",
        "\n",
        "---\n",
        "---\n",
        "\n",
        "\n",
        "# Question 2: Putting my son to bed (30 points)\n",
        "\n",
        "Sid uses a Spotify playlist with $n$ soothing songs to put his son to sleep. He plays the playlist on shuffle, but is worried that some songs may not get played (he spent a long time curating the playlist!).\n",
        "\n",
        "___\n",
        "**(a)**\n",
        "Suppose Spotify truly picks a random song each time -- Sid wants to know how many songs it takes on average to play **every song** on his playlist. Build a simulator to estimate this for a different values of $n$, and use this to try and guess the function.\n",
        "\n",
        "*Note: Try and pick a large range of $n$ to get a sense of the function of number of songs needed to play all vs. $n$ -- if you are adventurous, try to fit the function. Make sure you always show your CIs!*\n",
        "___"
      ],
      "metadata": {
        "id": "5AMJpIgg0AUP"
      }
    },
    {
      "cell_type": "markdown",
      "source": [
        "## Ans.\n"
      ],
      "metadata": {
        "id": "FdZFPY8J00Nz"
      }
    },
    {
      "cell_type": "code",
      "source": [
        "def simulate_song(n):\n",
        "  output=[]\n",
        "  for _ in range(5000):\n",
        "    music_ls = [i for i in range(1,n+1)]\n",
        "    count = 0\n",
        "    while music_ls:\n",
        "      play = np.random.randint(1,n+1)\n",
        "      if play in music_ls:\n",
        "        music_ls.remove(play)\n",
        "      count += 1\n",
        "    output.append(count)\n",
        "  se = 1.97* (np.std(output) / np.sqrt(5000))\n",
        "  mean = np.mean(output)\n",
        "  return [mean-se,mean+se]\n"
      ],
      "metadata": {
        "id": "84YeUV7dlQqT"
      },
      "execution_count": null,
      "outputs": []
    },
    {
      "cell_type": "code",
      "source": [
        "for n in (10,20,30,40,50,60,70,80,90,100,200,300):\n",
        "  print(f'The confidence interval to play {n} songs is {simulate_song(n)}')"
      ],
      "metadata": {
        "colab": {
          "base_uri": "https://localhost:8080/"
        },
        "id": "Dq5DfoMtnxe1",
        "outputId": "9c7946b2-bc87-40f4-f199-f7f1a7677e23"
      },
      "execution_count": null,
      "outputs": [
        {
          "output_type": "stream",
          "name": "stdout",
          "text": [
            "The confidence interval to play 10 songs is [28.98425876398746, 29.60494123601254]\n",
            "The confidence interval to play 20 songs is [71.87079882438992, 73.20280117561008]\n",
            "The confidence interval to play 30 songs is [119.08452937381712, 121.14067062618288]\n",
            "The confidence interval to play 40 songs is [169.44485992357482, 172.15914007642516]\n",
            "The confidence interval to play 50 songs is [225.27600987290086, 228.75519012709916]\n",
            "The confidence interval to play 60 songs is [278.19497772762736, 282.26422227237265]\n",
            "The confidence interval to play 70 songs is [336.1610737087835, 341.04812629121653]\n",
            "The confidence interval to play 80 songs is [393.80774343718537, 399.3630565628146]\n",
            "The confidence interval to play 90 songs is [456.6514029683927, 463.1697970316073]\n",
            "The confidence interval to play 100 songs is [515.5518799436572, 522.5737200563428]\n",
            "The confidence interval to play 200 songs is [1163.7116840122617, 1177.8299159877383]\n",
            "The confidence interval to play 300 songs is [1880.0223397250656, 1901.6892602749344]\n"
          ]
        }
      ]
    },
    {
      "cell_type": "markdown",
      "source": [
        "Given the results, we see that as n increases, the number of plays required to hear all songs also increases. The increase is not linear; it grows more slowly than n itself. This pattern possibly indicates a logarithmic relationship between the number of songs and the plays required."
      ],
      "metadata": {
        "id": "ahjlQo_88CoV"
      }
    },
    {
      "cell_type": "markdown",
      "source": [
        "___\n",
        "\n",
        "**(b)** On the other hand, Sid has realized that his son wakes up whenever he hears a song that has been played before (clever, isn't he!). Use your previous simulator to figure out how many songs Sid's son hears before he wakes up.\n",
        "\n",
        "___"
      ],
      "metadata": {
        "id": "kHPnqRj105lL"
      }
    },
    {
      "cell_type": "markdown",
      "source": [
        "## Ans.\n",
        "\n"
      ],
      "metadata": {
        "id": "o-b5c59b2CV-"
      }
    },
    {
      "cell_type": "code",
      "source": [
        "def simulate_song_until_repeat(n):\n",
        "  output = []\n",
        "  for _ in range(5000):\n",
        "    played_songs = set()\n",
        "    count = 0\n",
        "    while True:\n",
        "      play = np.random.randint(1, n+1)\n",
        "      count += 1\n",
        "      if play in played_songs:\n",
        "        break\n",
        "      played_songs.add(play)\n",
        "    output.append(count)\n",
        "  se = 1.97 * (np.std(output) / np.sqrt(5000))\n",
        "  mean = np.mean(output)\n",
        "  return mean"
      ],
      "metadata": {
        "id": "mT-3ogKx2Hzl"
      },
      "execution_count": null,
      "outputs": []
    },
    {
      "cell_type": "code",
      "source": [
        "for n in (10,20,30,40,50,60,70,80,90,100,200,300,400):\n",
        "  print(f'Average number ofsongs Sids son hears before he wakes up if the playlist include {n} songs is {simulate_song_until_repeat(n)}.')"
      ],
      "metadata": {
        "colab": {
          "base_uri": "https://localhost:8080/"
        },
        "id": "KI45wFkO9EAR",
        "outputId": "1ebcc92e-7abb-42e0-a871-3716abdbef30"
      },
      "execution_count": null,
      "outputs": [
        {
          "output_type": "stream",
          "name": "stdout",
          "text": [
            "Average number ofsongs Sids son hears before he wakes up if the playlist include 10 songs is 4.6576.\n",
            "Average number ofsongs Sids son hears before he wakes up if the playlist include 20 songs is 6.3014.\n",
            "Average number ofsongs Sids son hears before he wakes up if the playlist include 30 songs is 7.5468.\n",
            "Average number ofsongs Sids son hears before he wakes up if the playlist include 40 songs is 8.6498.\n",
            "Average number ofsongs Sids son hears before he wakes up if the playlist include 50 songs is 9.495.\n",
            "Average number ofsongs Sids son hears before he wakes up if the playlist include 60 songs is 10.3528.\n",
            "Average number ofsongs Sids son hears before he wakes up if the playlist include 70 songs is 11.168.\n",
            "Average number ofsongs Sids son hears before he wakes up if the playlist include 80 songs is 11.9472.\n",
            "Average number ofsongs Sids son hears before he wakes up if the playlist include 90 songs is 12.4902.\n",
            "Average number ofsongs Sids son hears before he wakes up if the playlist include 100 songs is 13.1626.\n",
            "Average number ofsongs Sids son hears before he wakes up if the playlist include 200 songs is 18.2796.\n",
            "Average number ofsongs Sids son hears before he wakes up if the playlist include 300 songs is 22.482.\n",
            "Average number ofsongs Sids son hears before he wakes up if the playlist include 400 songs is 25.6294.\n"
          ]
        }
      ]
    },
    {
      "cell_type": "markdown",
      "source": [
        "___\n",
        "\n",
        "**(c)** Suppose Spotify uses the following poor randomizer: it labels songs as $\\{0,1,2,\\ldots,n-1\\}$, and after playing a song $i$, it then either plays song $(i+1) mod(n)$ or $(i-1)mod(n)$ with probability $1/2$ (i.e., the next or previous song, imagining the songs to be in a ring with $n-1$ wrapping around to $1$). Simulate this randomizer for $n=20$, assuming you always start at song $1$, and find the histogram of the **last song to be played** for the first time using this shuffler.   \n",
        "\n",
        "___"
      ],
      "metadata": {
        "id": "SGw7QR3-2e_3"
      }
    },
    {
      "cell_type": "markdown",
      "source": [
        "## Ans."
      ],
      "metadata": {
        "id": "rbtZKA4I2wzN"
      }
    },
    {
      "cell_type": "code",
      "source": [
        "def simulate_poor_randomizer(n, simulations=5000):\n",
        "    last_songs = []\n",
        "    for i in range(simulations):\n",
        "        played_songs = set()\n",
        "        current_song = 1\n",
        "        played_songs.add(current_song)\n",
        "        while len(played_songs) < n:\n",
        "            if np.random.rand() < 0.5:\n",
        "                current_song = (current_song + 1) % n\n",
        "                if current_song==0:\n",
        "                  current_song=20\n",
        "            else:\n",
        "                current_song = (current_song - 1) % n\n",
        "                if current_song==0:\n",
        "                  current_song=20\n",
        "            played_songs.add(current_song)\n",
        "\n",
        "        last_songs.append(current_song)\n",
        "\n",
        "    return last_songs\n",
        "\n",
        "n = 20\n",
        "last_songs_played = simulate_poor_randomizer(n)\n",
        "\n",
        "plt.hist(last_songs_played, bins=n, edgecolor='black', range=(1, n))\n",
        "plt.xlabel('Song Number')\n",
        "plt.ylabel('Frequency')\n",
        "plt.title('Histogram of the Last Song Played for the First Time')\n",
        "plt.xticks(np.arange(n))\n",
        "plt.show()"
      ],
      "metadata": {
        "id": "SdhOiOuZ2yO-",
        "colab": {
          "base_uri": "https://localhost:8080/",
          "height": 472
        },
        "outputId": "819c20c8-152e-4a1b-cdff-03eaefee6913"
      },
      "execution_count": null,
      "outputs": [
        {
          "output_type": "display_data",
          "data": {
            "text/plain": [
              "<Figure size 640x480 with 1 Axes>"
            ],
            "image/png": "[encoded data removed]"
          },
          "metadata": {}
        }
      ]
    },
    {
      "cell_type": "markdown",
      "source": [
        "___\n",
        "\n",
        "**(d) (OPTIONAL)** For the above three questions, try and analytically derive the functions that you should get (and compare)"
      ],
      "metadata": {
        "id": "RtMo9ndo3DbA"
      }
    },
    {
      "cell_type": "markdown",
      "source": [
        "___\n",
        "___\n",
        "\n",
        "# Question 3: The gambler's ruin (20 points)\n",
        "\n",
        "The gambler's ruin is one of the most famous and widely studied models in stochastic processes. Imagine two gamblers $A$ and $B$ are playing a tournament, where they each start with \\$$a$ and \\$$b$ initially, and play a sequence of games, where each game is won by either player with probability $1/2$, with the winner giving \\$$1$ to the loser. Play goes on till one player runs out of money.\n",
        "\n",
        "___\n",
        "\n",
        "**(a)** Simulate this model to find the probability that player $A$ wins the overall tournament. Also, try and derive this analytically, and see how well the two match up.\n",
        "\n",
        "___"
      ],
      "metadata": {
        "id": "Jq3RRJUG2z09"
      }
    },
    {
      "cell_type": "markdown",
      "source": [
        "## Ans."
      ],
      "metadata": {
        "id": "Sor0QvV94lrw"
      }
    },
    {
      "cell_type": "code",
      "source": [
        "def simulate_game(a,b):\n",
        "  while a!=0 and b!=0:\n",
        "    if np.random.randint(0,2)==0:\n",
        "      a -= 1\n",
        "      b += 1\n",
        "    else:\n",
        "      a += 1\n",
        "      b -= 1\n",
        "\n",
        "  if b==0:\n",
        "    return 1\n",
        "  else:\n",
        "    return 0\n",
        "\n",
        "n = 100000\n",
        "count = 0\n",
        "for i in range(n):\n",
        "  count += simulate_game(10,5)\n",
        "count/n"
      ],
      "metadata": {
        "id": "7QtijqJS4nsY",
        "colab": {
          "base_uri": "https://localhost:8080/"
        },
        "outputId": "024a53ef-8170-4a8d-c50b-eb1258df0fa0"
      },
      "execution_count": null,
      "outputs": [
        {
          "output_type": "execute_result",
          "data": {
            "text/plain": [
              "0.66678"
            ]
          },
          "metadata": {},
          "execution_count": 57
        }
      ]
    },
    {
      "cell_type": "markdown",
      "source": [
        "From simulation, we found out that the probability for player A to win is $\\frac{a}{a+b}$."
      ],
      "metadata": {
        "id": "_7GEUKXGEE1Q"
      }
    },
    {
      "cell_type": "markdown",
      "source": [
        "In order to find this analytically, we first define $P(a,b)= \\frac{1}{2} P(a-1,b+1)+ \\frac{1}{2} P(a+1,b-1)$ as the probability player A will win. Also we know that $P(a,0)=1$ and $P(0,b)=0$.\n",
        "\n",
        "$P(1,1) = \\frac{1}{2} P(0,1)+ \\frac{1}{2} p(1,0)=0+\\frac{1}{2}=\\frac{1}{1+1}$\n",
        "\n",
        "$P(1,2) = \\frac{1}{2} P(0,3)+\\frac{1}{2} P(2,1)=\\frac{1}{2} P(2,1)$\n",
        "\n",
        "$P(2,1) = \\frac{1}{2} P(1,2) + \\frac{1}{2} P(3,0)=\\frac{1}{2} P(1,2)+\\frac{1}{2}$\n",
        "\n",
        "So, we have $P(1,2)=\\frac{1}{4}P(1,2)+\\frac{1}{4}$.\n",
        "\n",
        "By solving this equation for $P(1,2)$, we got $P(1,2)=\\frac{1}{3}=\\frac{1}{1+2}$\n",
        "\n",
        "Therefore, without lose of generosity, we could say $P(a,b) = \\frac{a}{a+b}$, which is identical with the result we got from simulation.\n"
      ],
      "metadata": {
        "id": "0yJF4QRVA4X-"
      }
    },
    {
      "cell_type": "markdown",
      "source": [
        "___\n",
        "**(b)** Another question we can ask is how long it takes for the tournament to end. To study this, simulate the gambler's ruin for a range of values of $a$ and $b$, and use this to try and guess the expected time to ruin.\n",
        "\n",
        "*Hint: Convince yourself that the function must be symmetric in $a$ and $b$, so you can assume $a\\leq b$. Try plotting the expected absorption times for selected values of $a$, while varying $b$.*\n",
        "\n",
        "___"
      ],
      "metadata": {
        "id": "yamKqPJe4syT"
      }
    },
    {
      "cell_type": "markdown",
      "source": [
        "## Ans."
      ],
      "metadata": {
        "id": "NOU2vkmw46k1"
      }
    },
    {
      "cell_type": "code",
      "source": [
        "ls = []\n",
        "for i in range(1,21):\n",
        "  ls.append([10,i*5])\n",
        "\n",
        "def simulate_game2(a,b):\n",
        "  count = 0\n",
        "  while a!=0 and b!=0:\n",
        "    if np.random.randint(0,2)==0:\n",
        "      a -= 1\n",
        "      b += 1\n",
        "    else:\n",
        "      a += 1\n",
        "      b -= 1\n",
        "    count+=1\n",
        "\n",
        "  return count\n",
        "\n"
      ],
      "metadata": {
        "id": "nTPZla0S47HJ"
      },
      "execution_count": null,
      "outputs": []
    },
    {
      "cell_type": "code",
      "source": [
        "for i in ls:\n",
        "  output = []\n",
        "  for _ in range(5000):\n",
        "    output.append(simulate_game2(i[0],i[1]))\n",
        "  print(i,np.mean(output))\n"
      ],
      "metadata": {
        "colab": {
          "base_uri": "https://localhost:8080/"
        },
        "id": "QUIJSVX0b3Lv",
        "outputId": "328e6ae0-2e24-46b2-8b28-6bc62d7b19a8"
      },
      "execution_count": null,
      "outputs": [
        {
          "output_type": "stream",
          "name": "stdout",
          "text": [
            "[10, 5] 48.3098\n",
            "[10, 10] 100.6456\n",
            "[10, 15] 151.3468\n",
            "[10, 20] 201.1508\n",
            "[10, 25] 243.7588\n",
            "[10, 30] 302.7048\n",
            "[10, 35] 339.6328\n",
            "[10, 40] 413.2008\n",
            "[10, 45] 450.4526\n",
            "[10, 50] 499.0736\n",
            "[10, 55] 553.5226\n",
            "[10, 60] 619.2272\n",
            "[10, 65] 647.599\n",
            "[10, 70] 704.3852\n",
            "[10, 75] 741.3986\n",
            "[10, 80] 818.1224\n",
            "[10, 85] 852.6946\n",
            "[10, 90] 923.7132\n",
            "[10, 95] 956.4796\n",
            "[10, 100] 1011.9584\n"
          ]
        }
      ]
    },
    {
      "cell_type": "markdown",
      "source": [
        "We found out that the expected time is a*b."
      ],
      "metadata": {
        "id": "sjVw1PjZd7K3"
      }
    },
    {
      "cell_type": "markdown",
      "metadata": {
        "id": "YX0Mw-EVb4GE"
      },
      "source": [
        "___\n",
        "___\n",
        "\n",
        "# Question 4: Simulation assigments take forever (25 points)\n",
        "\n",
        "You are convinced that Simulation homeworks take the longest time compared to all other assignments, while Sid maintains that all assignment times are identically distributed. To decide this debate once and for all, you decide to record how long it takes you to do your assignment, and then survey your friends on how long it took them to do their last assignment until you find someone who took longer$\\ldots$"
      ]
    },
    {
      "cell_type": "markdown",
      "metadata": {
        "id": "Yjy3dHqpb4GF"
      },
      "source": [
        "___\n",
        "\n",
        "**(a)**\n",
        "Suppose Sid is right (!) and all assignment completion times are truly identically distributed. Formally suppose your own assignment takes time (in hours) distributed as $T_0\\sim Exp(0.5)$, and similarly the $i^{th}$ friend you survey also takes time $T_i\\sim Exp(0.5)$, independent of all other friends. Run 100 simulations and report a $95\\%$ CI for the expected number of friends you need to survey to find someone who takes longer.\n",
        "___\n"
      ]
    },
    {
      "cell_type": "markdown",
      "metadata": {
        "id": "wOQnI769b4GF"
      },
      "source": [
        "## Ans.\n"
      ]
    },
    {
      "cell_type": "code",
      "source": [
        "def count_num():\n",
        "  t_0 = np.random.exponential(2,1)\n",
        "  count = 0\n",
        "  while True:\n",
        "    x = np.random.exponential(2,1)\n",
        "    count+=1\n",
        "    if x>t_0:\n",
        "      break\n",
        "  return count\n",
        "\n",
        "simulation = []\n",
        "for i in range(100):\n",
        "  simulation.append(count_num())\n",
        "\n",
        "se = 1.96 * ((np.std(simulation) / np.sqrt(100)))\n",
        "mean = np.mean(simulation)\n",
        "CI = [mean-se,mean+se]\n",
        "print(f\"CI: {CI}\")"
      ],
      "metadata": {
        "colab": {
          "base_uri": "https://localhost:8080/"
        },
        "id": "Bc6zRxxgsSQH",
        "outputId": "ae1f475a-eeca-40ee-e9e9-63848b764fb8"
      },
      "execution_count": null,
      "outputs": [
        {
          "output_type": "stream",
          "name": "stdout",
          "text": [
            "CI: [0.31894180226594937, 13.64105819773405]\n"
          ]
        }
      ]
    },
    {
      "cell_type": "markdown",
      "metadata": {
        "id": "DRpHC9hbb4GF"
      },
      "source": [
        "___\n",
        "\n",
        "**(b)** You are concerned that the CI looks a little wide, so decide to do more replications to fix the problem. Repeat the above simulation with number of replications $n\\in\\{100,500,1000,1500,2000,2500,\\ldots,9500,10000\\}$, and plot the estimates and $95\\%$ CIs.\n",
        "___"
      ]
    },
    {
      "cell_type": "markdown",
      "metadata": {
        "id": "1khe5-56b4GF"
      },
      "source": [
        "## Ans.\n"
      ]
    },
    {
      "cell_type": "code",
      "source": [
        "ls_experiments = [100]\n",
        "for i in range(1,21):\n",
        "  ls_experiments.append(i*500)\n",
        "\n",
        "CI_ls = []\n",
        "def generate_ci(n):\n",
        "  simulation = []\n",
        "  for i in range(n):\n",
        "    simulation.append(count_num())\n",
        "  se = 1.97 * ((np.std(simulation) / np.sqrt(n)))\n",
        "  mean = np.mean(simulation)\n",
        "  CI = [mean-se,mean+se]\n",
        "  return CI\n",
        "\n",
        "for n in ls_experiments:\n",
        "  CI_ls.append(generate_ci(n))\n",
        "\n",
        "\n",
        "CI_ls\n"
      ],
      "metadata": {
        "id": "00N4KuJqlEHf",
        "colab": {
          "base_uri": "https://localhost:8080/"
        },
        "outputId": "211e8d8f-94ce-4cc3-9473-016f7eb820aa"
      },
      "execution_count": null,
      "outputs": [
        {
          "output_type": "execute_result",
          "data": {
            "text/plain": [
              "[[2.040554935990631, 4.819445064009369],\n",
              " [4.454277736490297, 8.909722263509703],\n",
              " [5.5953750186374505, 17.348624981362548],\n",
              " [2.5071043355159786, 15.095562331150688],\n",
              " [1.809644622317478, 31.17935537768252],\n",
              " [6.051495230104741, 13.28930476989526],\n",
              " [6.361550110862562, 13.108449889137436],\n",
              " [6.695204619846523, 14.25565252301062],\n",
              " [6.046938022645553, 15.338561977354448],\n",
              " [4.825761809017262, 42.0377937465383],\n",
              " [8.139319273135985, 22.814280726864016],\n",
              " [1.180288308519378, 32.517893509662436],\n",
              " [5.926788126221464, 8.47254520711187],\n",
              " [6.337245982651778, 9.67444632504053],\n",
              " [7.0547586310763695, 13.792098511780774],\n",
              " [7.780282264396357, 22.440517735603642],\n",
              " [7.108291845104447, 12.758458154895553],\n",
              " [4.173720668717451, 34.72980874304726],\n",
              " [4.840799755255116, 21.080311355855994],\n",
              " [7.852634618460733, 29.299786434170848],\n",
              " [6.283094044908486, 22.512705955091512]]"
            ]
          },
          "metadata": {},
          "execution_count": 62
        }
      ]
    },
    {
      "cell_type": "markdown",
      "source": [
        "___\n",
        "**(c)** Hopefully you found the previous part a little surprising(?) Why is that the case? Well, this question highlights an important aspect of simulation that we have taken for granted in past problems -- in order to get an estimator for an unknown quantity, we *need that quantity to be finite*! Find an expression for computing the expected number of queries till we get one which is larger in the above setting, and argue that it is infinite.\n",
        "\n",
        "*Hint: Remember how we used linearity of expectation and indicator random variables before? Try doing the same, with indicator variables for the $i^{th}$ person (for each $i\\in\\{1,2,\\ldots\\}$) being the first person surveyed who took longer than you).*\n",
        "___\n"
      ],
      "metadata": {
        "id": "9NNPvFQY0HM4"
      }
    },
    {
      "cell_type": "markdown",
      "source": [
        "## Ans.\n",
        "Let $X_i$ be the be the first person who takes longer.\n",
        "\n",
        "Because the exponential distribution is memoryless, the probability that any friend takes longer does not depend on how long you took. Also, each one's time is iid. Then, $P(T_i>T_0)=0.5$\n",
        "\n",
        "\n",
        " So:\n",
        "$$\n",
        "E[X_i]=(0.5)^i\n",
        "$$\n",
        "$$\n",
        "E[N]=∑_{i=1}^∞E[X_i]=∑_{i=1}^∞(0.5)^i\n",
        "$$\n",
        "This is a geometric series that does not converge, thus the result approaches infinity."
      ],
      "metadata": {
        "id": "g2AJuYY20z1W"
      }
    }
  ],
  "metadata": {
    "kernelspec": {
      "display_name": "Python 3",
      "language": "python",
      "name": "python3"
    },
    "language_info": {
      "codemirror_mode": {
        "name": "ipython",
        "version": 3
      },
      "file_extension": ".py",
      "mimetype": "text/x-python",
      "name": "python",
      "nbconvert_exporter": "python",
      "pygments_lexer": "ipython3",
      "version": "3.6.4"
    },
    "colab": {
      "provenance": []
    }
  },
  "nbformat": 4,
  "nbformat_minor": 0
}